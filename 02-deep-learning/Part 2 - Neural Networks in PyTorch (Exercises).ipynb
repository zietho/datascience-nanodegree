{
 "cells": [
  {
   "cell_type": "markdown",
   "metadata": {},
   "source": [
    "# Neural networks with PyTorch\n",
    "\n",
    "Deep learning networks tend to be massive with dozens or hundreds of layers, that's where the term \"deep\" comes from. You can build one of these deep networks using only weight matrices as we did in the previous notebook, but in general it's very cumbersome and difficult to implement. PyTorch has a nice module `nn` that provides a nice way to efficiently build large neural networks."
   ]
  },
  {
   "cell_type": "code",
   "execution_count": 1,
   "metadata": {},
   "outputs": [],
   "source": [
    "# Import necessary packages\n",
    "\n",
    "%matplotlib inline\n",
    "%config InlineBackend.figure_format = 'retina'\n",
    "\n",
    "import numpy as np\n",
    "import torch\n",
    "\n",
    "import helper\n",
    "\n",
    "import matplotlib.pyplot as plt"
   ]
  },
  {
   "cell_type": "markdown",
   "metadata": {},
   "source": [
    "\n",
    "Now we're going to build a larger network that can solve a (formerly) difficult problem, identifying text in an image. Here we'll use the MNIST dataset which consists of greyscale handwritten digits. Each image is 28x28 pixels, you can see a sample below\n",
    "\n",
    "<img src='assets/mnist.png'>\n",
    "\n",
    "Our goal is to build a neural network that can take one of these images and predict the digit in the image.\n",
    "\n",
    "First up, we need to get our dataset. This is provided through the `torchvision` package. The code below will download the MNIST dataset, then create training and test datasets for us. Don't worry too much about the details here, you'll learn more about this later."
   ]
  },
  {
   "cell_type": "code",
   "execution_count": 2,
   "metadata": {},
   "outputs": [
    {
     "name": "stdout",
     "output_type": "stream",
     "text": [
      "Downloading http://yann.lecun.com/exdb/mnist/train-images-idx3-ubyte.gz\n",
      "Downloading http://yann.lecun.com/exdb/mnist/train-labels-idx1-ubyte.gz\n",
      "Downloading http://yann.lecun.com/exdb/mnist/t10k-images-idx3-ubyte.gz\n",
      "Downloading http://yann.lecun.com/exdb/mnist/t10k-labels-idx1-ubyte.gz\n",
      "Processing...\n",
      "Done!\n"
     ]
    }
   ],
   "source": [
    "### Run this cell\n",
    "\n",
    "from torchvision import datasets, transforms\n",
    "\n",
    "# Define a transform to normalize the data\n",
    "transform = transforms.Compose([transforms.ToTensor(),\n",
    "                              transforms.Normalize((0.5,), (0.5,)),\n",
    "                              ])\n",
    "\n",
    "# Download and load the training data\n",
    "trainset = datasets.MNIST('~/.pytorch/MNIST_data/', download=True, train=True, transform=transform)\n",
    "trainloader = torch.utils.data.DataLoader(trainset, batch_size=64, shuffle=True)"
   ]
  },
  {
   "cell_type": "markdown",
   "metadata": {},
   "source": [
    "We have the training data loaded into `trainloader` and we make that an iterator with `iter(trainloader)`. Later, we'll use this to loop through the dataset for training, like\n",
    "\n",
    "```python\n",
    "for image, label in trainloader:\n",
    "    ## do things with images and labels\n",
    "```\n",
    "\n",
    "You'll notice I created the `trainloader` with a batch size of 64, and `shuffle=True`. The batch size is the number of images we get in one iteration from the data loader and pass through our network, often called a *batch*. And `shuffle=True` tells it to shuffle the dataset every time we start going through the data loader again. But here I'm just grabbing the first batch so we can check out the data. We can see below that `images` is just a tensor with size `(64, 1, 28, 28)`. So, 64 images per batch, 1 color channel, and 28x28 images."
   ]
  },
  {
   "cell_type": "code",
   "execution_count": 10,
   "metadata": {},
   "outputs": [
    {
     "name": "stdout",
     "output_type": "stream",
     "text": [
      "<class 'torch.Tensor'>\n",
      "torch.Size([64, 1, 28, 28])\n",
      "torch.Size([64])\n",
      "tensor([[-1.0000, -1.0000, -1.0000,  ..., -1.0000, -1.0000, -1.0000],\n",
      "        [-1.0000, -1.0000, -1.0000,  ..., -1.0000, -1.0000, -1.0000],\n",
      "        [-1.0000, -1.0000, -1.0000,  ..., -1.0000, -1.0000, -1.0000],\n",
      "        ...,\n",
      "        [-1.0000, -1.0000, -1.0000,  ..., -1.0000, -1.0000, -1.0000],\n",
      "        [-1.0000, -1.0000, -1.0000,  ..., -1.0000, -1.0000, -1.0000],\n",
      "        [-1.0000, -1.0000, -1.0000,  ..., -1.0000, -1.0000, -1.0000]])\n"
     ]
    }
   ],
   "source": [
    "dataiter = iter(trainloader)\n",
    "images, labels = dataiter.next()\n",
    "print(type(images))\n",
    "print(images.shape)\n",
    "print(labels.shape)\n",
    "print(images.view(64,784))"
   ]
  },
  {
   "cell_type": "markdown",
   "metadata": {},
   "source": [
    "This is what one of the images looks like. "
   ]
  },
  {
   "cell_type": "code",
   "execution_count": 4,
   "metadata": {},
   "outputs": [
    {
     "data": {
      "image/png": "[encoded data removed]",
      "text/plain": [
       "<matplotlib.figure.Figure at 0x7f2d62739ba8>"
      ]
     },
     "metadata": {
      "image/png": {
       "height": 250,
       "width": 253
      },
      "needs_background": "light"
     },
     "output_type": "display_data"
    }
   ],
   "source": [
    "plt.imshow(images[1].numpy().squeeze(), cmap='Greys_r');"
   ]
  },
  {
   "cell_type": "markdown",
   "metadata": {},
   "source": [
    "First, let's try to build a simple network for this dataset using weight matrices and matrix multiplications. Then, we'll see how to do it using PyTorch's `nn` module which provides a much more convenient and powerful method for defining network architectures.\n",
    "\n",
    "The networks you've seen so far are called *fully-connected* or *dense* networks. Each unit in one layer is connected to each unit in the next layer. In fully-connected networks, the input to each layer must be a one-dimensional vector (which can be stacked into a 2D tensor as a batch of multiple examples). However, our images are 28x28 2D tensors, so we need to convert them into 1D vectors. Thinking about sizes, we need to convert the batch of images with shape `(64, 1, 28, 28)` to a have a shape of `(64, 784)`, 784 is 28 times 28. This is typically called *flattening*, we flattened the 2D images into 1D vectors.\n",
    "\n",
    "Previously you built a network with one output unit. Here we need 10 output units, one for each digit. We want our network to predict the digit shown in an image, so what we'll do is calculate probabilities that the image is of any one digit or class. This ends up being a discrete probability distribution over the classes (digits) that tells us the most likely class for the image. That means we need 10 output units for the 10 classes (digits). We'll see how to convert the network output into a probability distribution next.\n",
    "\n",
    "> **Exercise:** Flatten the batch of images `images`. Then build a multi-layer network with 784 input units, 256 hidden units, and 10 output units using random tensors for the weights and biases. For now, use a sigmoid activation for the hidden layer. Leave the output layer without an activation, we'll add one that gives us a probability distribution next."
   ]
  },
  {
   "cell_type": "code",
   "execution_count": 15,
   "metadata": {},
   "outputs": [
    {
     "data": {
      "text/plain": [
       "64"
      ]
     },
     "execution_count": 15,
     "metadata": {},
     "output_type": "execute_result"
    }
   ],
   "source": [
    "images.shape[0]"
   ]
  },
  {
   "cell_type": "code",
   "execution_count": 19,
   "metadata": {},
   "outputs": [
    {
     "name": "stdout",
     "output_type": "stream",
     "text": [
      "tensor([[-11.3660,  -3.8075,  -0.2047,  -8.4833,   7.4145,  18.9193,\n",
      "           1.9457,   2.9826, -15.2112,   6.3575],\n",
      "        [ -5.4856, -14.7392,  -5.8110, -12.5115,  10.7515,   8.2510,\n",
      "           9.8251,   1.3015, -16.8991,  -6.6017],\n",
      "        [-12.2925,  -7.3490,   0.2912,  -7.9014,  13.9417,   7.4497,\n",
      "          -6.1088,  -3.5935, -16.4212,   1.0534],\n",
      "        [ -1.8485,  -4.2765,  -2.9728, -10.9185,  -1.0890,  13.4737,\n",
      "         -11.5881,   0.6094,  -7.9037,  -3.6946],\n",
      "        [-17.5778,  -4.0301,   0.7305,  -5.7085,   8.0931,   5.7464,\n",
      "          -7.6432,   7.4257, -12.3990,   1.3491],\n",
      "        [-15.3930,  -8.1574,   2.8150,  -5.2902,  15.0386,  -3.5256,\n",
      "          -6.9345,   9.2283,  -9.9631,  -3.1903],\n",
      "        [-13.9207,  -5.3355,   1.3493,  -1.1648,   1.3053,   6.2766,\n",
      "           1.6629,   2.0692, -19.5068,   5.0640],\n",
      "        [-17.7707,   5.3176,   5.8424,  -8.9409,   8.6459,   3.9852,\n",
      "          -2.3102, -11.9699, -16.4973,  -2.2172],\n",
      "        [ -5.6098, -16.2816,   1.2077,  -5.5718,   2.5923,   4.6043,\n",
      "          -5.8524,   0.2599, -10.7835, -13.9010],\n",
      "        [ -8.4820,   6.4660,  10.0015, -10.7214,   3.3661,   4.1780,\n",
      "          -6.5122,  -1.9600,  -9.9972,   3.8678],\n",
      "        [-17.5481,   7.4311,  -0.9866, -10.5888,   6.1494,   4.7923,\n",
      "          -7.1599,  -4.9372,  -7.9726,  -0.6864],\n",
      "        [-14.4555, -12.3914,  -4.6743, -13.8813,   8.0935,   3.0755,\n",
      "           0.7390,   5.9256, -16.0881,  -6.2504],\n",
      "        [-15.1097, -13.0357,  -8.2794,  -3.2295,  11.8931,   6.2604,\n",
      "          -7.4846,  -0.7420, -11.4982,  -5.7937],\n",
      "        [-11.3071,  -4.7382,  -5.0707, -15.2742,   6.1300,   8.3762,\n",
      "           8.0679,  11.0899, -17.4908,  -2.4935],\n",
      "        [-14.4620,  -6.5527,   1.9429, -13.9435,   5.1284,  12.1228,\n",
      "          -1.4577,  13.9380, -22.7881,  -9.8704],\n",
      "        [-12.2108,  -9.6506,  17.5368,  -9.9150,   6.6396,   5.1861,\n",
      "          -4.8563,  -0.0123,  -3.6074,   0.5546],\n",
      "        [-11.5062, -10.4397,  -5.8712, -18.7052,   5.3123,  15.7192,\n",
      "          -7.3280,  -2.2658,  -6.3189,  -1.0539],\n",
      "        [-10.7250, -15.8882,  -9.7009,  -8.9887,   3.8172,  11.1119,\n",
      "           3.5802,  -2.7211, -11.1858, -10.6518],\n",
      "        [ -9.4044, -11.5345,   4.5940,  -4.5294,   8.4239,  15.5380,\n",
      "          -3.7963,  10.0079, -10.1764,  -6.1094],\n",
      "        [-23.1345, -16.5956,  -8.9993,  -9.4800,   9.7485,   3.1999,\n",
      "          -3.1984,   1.9851,  -9.2937, -20.0581],\n",
      "        [-13.7243,  -9.7221,  -1.6177,  -6.5823,  10.6087,   1.5305,\n",
      "           2.3556,  -4.7547, -13.1195,  -7.1425],\n",
      "        [ -9.8997, -11.5510,  -0.0767, -14.2613,   4.1819,  -1.7879,\n",
      "          -1.7773,   0.0987, -17.1872,  -9.3377],\n",
      "        [-15.1940,  -7.2009,  -2.4025,  -7.8013,  21.3068,  12.8815,\n",
      "           3.1777,   5.4394, -13.3458,  -5.6884],\n",
      "        [-20.8524, -10.0172,  -6.3832, -14.4813,   4.3380,  11.9557,\n",
      "          -6.7609,   2.6235, -13.8255,   4.5743],\n",
      "        [-17.4660,   2.5363,   2.5217, -14.6693,  10.4044,   7.4828,\n",
      "           1.1980,   3.1247, -14.5232,  -3.7219],\n",
      "        [-13.8985,   0.0985,  -0.5662,  -9.1457,   4.4566,  17.6507,\n",
      "         -13.0433,  -0.2004, -15.7037,   7.0186],\n",
      "        [-12.4527, -11.4724,  12.5087,  -6.8703,   5.6538,   6.2916,\n",
      "           2.8023,  10.6065, -18.2069,   1.6636],\n",
      "        [ -9.4146,   8.8558,   3.1170,  -3.2094,  -2.2327,   7.5585,\n",
      "         -18.5061,   2.0753, -14.1106,   2.6522],\n",
      "        [ -9.7773,  -1.5533,  -2.2214, -18.3938,  11.8891,   6.1166,\n",
      "           2.4916,  18.5955, -10.6374,  -8.8127],\n",
      "        [-17.4582, -14.6508,  -8.3000, -15.5465,   4.3461,   7.3146,\n",
      "          -4.4410,   9.5002, -17.1490,   1.7937],\n",
      "        [-19.1719,  -9.5776,  -1.2138,  -1.7381,  10.1735,   4.9411,\n",
      "          -6.5667,   7.8768, -12.3044,  -6.1692],\n",
      "        [-13.5766,  -6.9676,  -5.8144, -15.8868,   2.7648,   4.1848,\n",
      "         -11.5223,   5.7521, -12.6737,  -4.4799],\n",
      "        [-14.0594, -13.4801,  -6.2114, -12.8728,   6.8363,   4.8478,\n",
      "          -2.7012,   1.5671,  -5.4650,  -6.5408],\n",
      "        [-10.4646, -14.9250,   0.5595,  -8.7376,   3.3059,   8.8601,\n",
      "          -5.8489,  -1.9728, -13.8335, -14.8228],\n",
      "        [-16.2013,  -1.2887,   0.7277, -12.6345,   5.1168,  -5.9321,\n",
      "          -7.9453,   2.7920, -12.4154,   0.9427],\n",
      "        [-16.6677,  -2.5373, -11.3701, -14.9547,  -3.6617,  11.1779,\n",
      "           2.9440,  -9.2067, -16.1403,   4.7057],\n",
      "        [-13.3703, -10.6273,  -2.6755, -14.7106,   4.6706,   6.9393,\n",
      "          -3.3546,  -1.5646,  -8.8509,   0.2159],\n",
      "        [ -4.3159,  -1.5392,  -0.2222,  -9.2404,   6.9622,  10.8526,\n",
      "          -2.7737,   3.2494, -10.9131,  -7.3000],\n",
      "        [ -8.6625,  -3.3096,   1.5592, -12.4450,  11.6462,  11.8221,\n",
      "          -9.0434,  -0.4244,  -9.6774,  -3.0134],\n",
      "        [-15.2857,  -8.0594,   3.4397,  -7.4241,  11.7622,   0.8635,\n",
      "          -0.3117,   2.2403,  -9.6036,  -7.4728],\n",
      "        [-15.2864,  -8.1666,  -5.2741, -12.9749,   6.9838,  10.6658,\n",
      "          -7.0180,   1.7292, -18.2103,  -0.2777],\n",
      "        [-17.5375,   2.5694,   8.9989,  -7.1487,  10.3383,   6.3073,\n",
      "          -9.3588,   2.7304,  -5.6569,   2.5081],\n",
      "        [-10.3053,  -8.8138,  -4.3316, -12.4202,   6.1985,   4.1331,\n",
      "          -5.1115,  12.2705, -10.9719,   2.2477],\n",
      "        [-14.9226,   4.0788,  -7.5421, -15.5613,   5.8907,   8.8226,\n",
      "           0.2084,   1.9680, -10.4675,  -4.8948],\n",
      "        [-15.6187,  -8.2916,  -2.5730, -13.7050,   8.9648,  11.1923,\n",
      "          -2.5782,   7.3038, -14.7034,  -0.7064],\n",
      "        [-16.3343, -10.2897,   0.7925, -10.4081,   3.2709,  10.6712,\n",
      "          -7.4452,   0.4644, -13.3188,   3.5652],\n",
      "        [-15.2842,  -7.5888,  -1.6806,  -6.6988,   5.4165,  14.5523,\n",
      "          -2.1347,  -9.7049, -15.0973,  -1.6913],\n",
      "        [-10.0961, -16.4881,  -5.1473, -16.4154,  -3.1656,   7.5754,\n",
      "           7.2753,  -0.0092, -10.8203,   0.3586],\n",
      "        [ -8.6610, -16.5683,  -6.6293,   0.1500,  16.7590,   4.9279,\n",
      "           2.2469,  -4.2635, -20.1376,  -8.7063],\n",
      "        [-18.1197,  -2.3971,  -1.8962, -15.1488,   7.9198,   9.1805,\n",
      "           6.3237,  13.1802, -12.1168,  -4.0459],\n",
      "        [ -6.6864, -15.8159,  -8.8078,  -4.2944,   5.3912,   5.0896,\n",
      "           7.5399,  10.0973, -16.4973,  -3.1388],\n",
      "        [-14.1008,  -5.5546,   3.6715, -15.2911,  -0.2944,   9.6048,\n",
      "          -3.0888,   4.2002,  -7.0850,  -3.5035],\n",
      "        [-12.9948,  -8.6882,  -4.3168,  -9.2619,   2.3006,   7.9646,\n",
      "          -9.6471,  -4.9772,  -6.0107,   0.9361],\n",
      "        [-10.1042,  -2.4370,  -1.9742,  -9.5759,   0.7244,  12.6141,\n",
      "           1.0724,   5.8563, -16.9754,  -2.1922],\n",
      "        [-21.7946,  -5.3996,   3.3552,  -5.0631,   4.5621,   3.3348,\n",
      "         -10.7891,   4.2317, -11.3853,   5.0032],\n",
      "        [-11.6565,  -7.3479,  -0.9691,  -6.9638,  13.4684,   4.1626,\n",
      "          -8.8172,  10.8890, -16.5417,  -6.7476],\n",
      "        [-18.4839,  -6.7160,   2.7544, -13.2851,   6.4349,   4.7079,\n",
      "          -7.8494,   6.0494, -12.8237,   6.0287],\n",
      "        [-16.9196,  -6.5543,  -1.4446,  -2.5364,  15.1576,  10.6558,\n",
      "          -1.3740,   6.7027, -16.7343,  -8.7224],\n",
      "        [ -6.8075, -11.6293,  -7.3912, -13.4379,   9.2723,   7.5863,\n",
      "          -6.1880,   8.8736, -17.4533,  -6.7513],\n",
      "        [-11.8488, -10.8052,  -7.4635,  -2.9371,  13.8424,  11.8131,\n",
      "          -6.5603,   4.1218,  -9.6392,  -8.2762],\n",
      "        [-13.0931,  -8.1864,   5.9567, -11.1307,   8.5038,   2.1002,\n",
      "           2.3834,   7.5205, -12.8735,  -6.1700],\n",
      "        [ -4.8863,  -5.1881,  -4.8263,  -8.0770,   7.8541,  11.5277,\n",
      "          -9.1344,  -5.3205, -12.2806,   4.4416],\n",
      "        [-14.2329, -13.2607,  -6.1268, -10.0417,  11.4028,   2.0130,\n",
      "          -3.9120,   7.0835, -11.0365,  -6.4599],\n",
      "        [-19.6176,  -6.0583,   5.4765,   0.1855,   5.3958,  -4.6066,\n",
      "           1.7494,   6.6445, -15.3297,   6.1418]])\n"
     ]
    }
   ],
   "source": [
    "def activation(x):\n",
    "    return 1/(1+torch.exp(-x))\n",
    "\n",
    "#flatten the batch of images\n",
    "torch.manual_seed(7)\n",
    "\n",
    "flattenedImages = images.view(images.shape[0],-1)\n",
    "\n",
    "n_input= flattenedImages.shape[1]\n",
    "n_hidden=256\n",
    "n_output=10\n",
    "\n",
    "weights_input_hidden = torch.randn(n_input,n_hidden)\n",
    "weights_hidden_output = torch.randn(n_hidden, n_output)\n",
    "\n",
    "bias_input_hidden = torch.randn(n_hidden)\n",
    "bias_hidden_output = torch.randn(n_output)\n",
    "    \n",
    "output_hidden = activation(torch.mm(flattenedImages,weights_input_hidden) +bias_input_hidden)\n",
    "out = torch.mm(output_hidden, weights_hidden_output)+bias_hidden_output\n",
    "print(out)"
   ]
  },
  {
   "cell_type": "markdown",
   "metadata": {},
   "source": [
    "Now we have 10 outputs for our network. We want to pass in an image to our network and get out a probability distribution over the classes that tells us the likely class(es) the image belongs to. Something that looks like this:\n",
    "<img src='assets/image_distribution.png' width=500px>\n",
    "\n",
    "Here we see that the probability for each class is roughly the same. This is representing an untrained network, it hasn't seen any data yet so it just returns a uniform distribution with equal probabilities for each class.\n",
    "\n",
    "To calculate this probability distribution, we often use the [**softmax** function](https://en.wikipedia.org/wiki/Softmax_function). Mathematically this looks like\n",
    "\n",
    "$$\n",
    "\\Large \\sigma(x_i) = \\cfrac{e^{x_i}}{\\sum_k^K{e^{x_k}}}\n",
    "$$\n",
    "\n",
    "What this does is squish each input $x_i$ between 0 and 1 and normalizes the values to give you a proper probability distribution where the probabilites sum up to one.\n",
    "\n",
    "> **Exercise:** Implement a function `softmax` that performs the softmax calculation and returns probability distributions for each example in the batch. Note that you'll need to pay attention to the shapes when doing this. If you have a tensor `a` with shape `(64, 10)` and a tensor `b` with shape `(64,)`, doing `a/b` will give you an error because PyTorch will try to do the division across the columns (called broadcasting) but you'll get a size mismatch. The way to think about this is for each of the 64 examples, you only want to divide by one value, the sum in the denominator. So you need `b` to have a shape of `(64, 1)`. This way PyTorch will divide the 10 values in each row of `a` by the one value in each row of `b`. Pay attention to how you take the sum as well. You'll need to define the `dim` keyword in `torch.sum`. Setting `dim=0` takes the sum across the rows while `dim=1` takes the sum across the columns."
   ]
  },
  {
   "cell_type": "code",
   "execution_count": 21,
   "metadata": {},
   "outputs": [
    {
     "name": "stdout",
     "output_type": "stream",
     "text": [
      "torch.Size([64, 10])\n",
      "tensor([ 1.0000,  1.0000,  1.0000,  1.0000,  1.0000,  1.0000,  1.0000,\n",
      "         1.0000,  1.0000,  1.0000,  1.0000,  1.0000,  1.0000,  1.0000,\n",
      "         1.0000,  1.0000,  1.0000,  1.0000,  1.0000,  1.0000,  1.0000,\n",
      "         1.0000,  1.0000,  1.0000,  1.0000,  1.0000,  1.0000,  1.0000,\n",
      "         1.0000,  1.0000,  1.0000,  1.0000,  1.0000,  1.0000,  1.0000,\n",
      "         1.0000,  1.0000,  1.0000,  1.0000,  1.0000,  1.0000,  1.0000,\n",
      "         1.0000,  1.0000,  1.0000,  1.0000,  1.0000,  1.0000,  1.0000,\n",
      "         1.0000,  1.0000,  1.0000,  1.0000,  1.0000,  1.0000,  1.0000,\n",
      "         1.0000,  1.0000,  1.0000,  1.0000,  1.0000,  1.0000,  1.0000,\n",
      "         1.0000])\n",
      "tensor([[ 7.0351e-14,  1.3486e-10,  4.9493e-09,  1.2566e-12,  1.0082e-05,\n",
      "          9.9999e-01,  4.2506e-08,  1.1989e-07,  1.5041e-15,  3.5032e-06],\n",
      "        [ 6.0066e-08,  5.7524e-12,  4.3382e-08,  5.3370e-11,  6.7653e-01,\n",
      "          5.5508e-02,  2.6791e-01,  5.3239e-05,  6.6344e-13,  1.9674e-08],\n",
      "        [ 4.0362e-12,  5.6616e-10,  1.1777e-06,  3.2584e-10,  9.9848e-01,\n",
      "          1.5133e-03,  1.9568e-09,  2.4206e-08,  6.5001e-14,  2.5238e-06],\n",
      "        [ 2.2165e-07,  1.9552e-08,  7.2006e-08,  2.5504e-11,  4.7371e-07,\n",
      "          1.0000e+00,  1.3056e-11,  2.5889e-06,  5.1989e-10,  3.4986e-08],\n",
      "        [ 4.4087e-12,  3.3728e-06,  3.9398e-04,  6.2959e-07,  6.2092e-01,\n",
      "          5.9411e-02,  9.0955e-08,  3.1854e-01,  7.8238e-10,  7.3137e-04],\n",
      "        [ 6.0593e-14,  8.4100e-11,  4.8983e-06,  1.4791e-09,  9.9701e-01,\n",
      "          8.6368e-09,  2.8567e-10,  2.9873e-03,  1.3822e-11,  1.2077e-08],\n",
      "        [ 1.2657e-09,  6.7738e-06,  5.4201e-03,  4.3864e-04,  5.1863e-03,\n",
      "          7.4794e-01,  7.4159e-03,  1.1134e-02,  4.7457e-12,  2.2246e-01],\n",
      "        [ 3.0457e-12,  3.2418e-02,  5.4792e-02,  2.0817e-08,  9.0420e-01,\n",
      "          8.5534e-03,  1.5780e-05,  1.0067e-09,  1.0882e-11,  1.7317e-05],\n",
      "        [ 3.1054e-05,  7.2006e-10,  2.8373e-02,  3.2254e-05,  1.1330e-01,\n",
      "          8.4724e-01,  2.4363e-05,  1.0997e-02,  1.7587e-07,  7.7853e-09],\n",
      "        [ 9.0687e-09,  2.8144e-02,  9.6563e-01,  9.6598e-10,  1.2680e-03,\n",
      "          2.8558e-03,  6.5018e-08,  6.1659e-06,  1.9929e-09,  2.0942e-03],\n",
      "        [ 1.0508e-11,  7.4098e-01,  1.6370e-04,  1.1063e-08,  2.0569e-01,\n",
      "          5.2941e-02,  3.4123e-07,  3.1502e-06,  1.5138e-07,  2.2102e-04],\n",
      "        [ 1.4363e-10,  1.1316e-09,  2.5420e-06,  2.5505e-10,  8.9152e-01,\n",
      "          5.9000e-03,  5.7034e-04,  1.0201e-01,  2.8069e-11,  5.2561e-07],\n",
      "        [ 1.8675e-12,  1.4860e-11,  1.7283e-09,  2.6964e-07,  9.9643e-01,\n",
      "          3.5660e-03,  3.8268e-09,  3.2441e-06,  6.9142e-11,  2.0757e-08],\n",
      "        [ 1.6715e-10,  1.1911e-07,  8.5421e-08,  3.1641e-12,  6.2512e-03,\n",
      "          5.9084e-02,  4.3408e-02,  8.9125e-01,  3.4481e-13,  1.1241e-06],\n",
      "        [ 3.9853e-13,  1.0850e-09,  5.3092e-06,  6.6936e-13,  1.2837e-04,\n",
      "          1.3999e-01,  1.7708e-07,  8.5988e-01,  9.6491e-17,  3.9318e-11],\n",
      "        [ 1.2044e-13,  1.5584e-12,  9.9998e-01,  1.1963e-12,  1.8511e-05,\n",
      "          4.3269e-06,  1.8828e-10,  2.3907e-08,  6.5646e-10,  4.2143e-08],\n",
      "        [ 1.5002e-12,  4.3585e-12,  4.2014e-10,  1.1212e-15,  3.0224e-05,\n",
      "          9.9997e-01,  9.7882e-11,  1.5459e-08,  2.6851e-10,  5.1943e-08],\n",
      "        [ 3.2797e-10,  1.8771e-12,  9.1321e-10,  1.8616e-09,  6.7829e-04,\n",
      "          9.9879e-01,  5.3518e-04,  9.8149e-07,  2.0687e-10,  3.5289e-10],\n",
      "        [ 1.4641e-11,  1.7398e-12,  1.7579e-05,  1.9177e-09,  8.0969e-04,\n",
      "          9.9523e-01,  3.9916e-09,  3.9465e-03,  6.7657e-12,  3.9496e-10],\n",
      "        [ 5.2277e-15,  3.6149e-12,  7.1968e-09,  4.4503e-09,  9.9814e-01,\n",
      "          1.4295e-03,  2.3794e-06,  4.2425e-04,  5.3617e-09,  1.1333e-13],\n",
      "        [ 2.7049e-11,  1.4801e-09,  4.8977e-06,  3.4191e-08,  9.9962e-01,\n",
      "          1.1408e-04,  2.6037e-04,  2.1263e-07,  4.9527e-11,  1.9527e-08],\n",
      "        [ 7.3963e-07,  1.4186e-07,  1.3648e-02,  9.4359e-09,  9.6513e-01,\n",
      "          2.4656e-03,  2.4920e-03,  1.6266e-02,  5.0595e-10,  1.2974e-06],\n",
      "        [ 1.4054e-16,  4.1606e-13,  5.0475e-11,  2.2824e-13,  9.9978e-01,\n",
      "          2.1919e-04,  1.3381e-08,  1.2846e-07,  8.9220e-16,  1.8880e-12],\n",
      "        [ 5.6376e-15,  2.8627e-10,  1.0840e-08,  3.2965e-12,  4.9110e-04,\n",
      "          9.9880e-01,  7.4295e-09,  8.8426e-05,  6.3514e-12,  6.2199e-04],\n",
      "        [ 7.4578e-13,  3.6266e-04,  3.5741e-04,  1.2224e-11,  9.4751e-01,\n",
      "          5.1023e-02,  9.5126e-05,  6.5320e-04,  1.4147e-11,  6.9441e-07],\n",
      "        [ 1.9875e-14,  2.3832e-08,  1.2259e-08,  2.3037e-12,  1.8614e-06,\n",
      "          9.9997e-01,  4.6743e-14,  1.7674e-08,  3.2685e-15,  2.4127e-05],\n",
      "        [ 1.2526e-11,  3.3384e-11,  8.6777e-01,  3.3281e-09,  9.1483e-04,\n",
      "          1.7312e-03,  5.2841e-05,  1.2951e-01,  3.9702e-14,  1.6921e-05],\n",
      "        [ 9.0813e-09,  7.8145e-01,  2.5150e-03,  4.4982e-06,  1.1946e-05,\n",
      "          2.1355e-01,  1.0228e-12,  8.8745e-04,  8.2928e-11,  1.5802e-03],\n",
      "        [ 4.7568e-13,  1.7740e-09,  9.0955e-10,  8.6148e-17,  1.2215e-03,\n",
      "          3.8014e-06,  1.0131e-07,  9.9877e-01,  2.0127e-13,  1.2480e-12],\n",
      "        [ 1.7515e-12,  2.9016e-11,  1.6625e-08,  1.1849e-11,  5.1628e-03,\n",
      "          1.0048e-01,  7.8833e-07,  8.9395e-01,  2.3861e-12,  4.0219e-04],\n",
      "        [ 1.6283e-13,  2.3905e-09,  1.0252e-05,  6.0691e-06,  9.0419e-01,\n",
      "          4.8293e-03,  4.8542e-08,  9.0960e-02,  1.5641e-10,  7.2229e-08],\n",
      "        [ 3.2032e-09,  2.3761e-06,  7.5277e-06,  3.1789e-10,  4.0047e-02,\n",
      "          1.6568e-01,  2.4989e-08,  7.9424e-01,  7.9019e-09,  2.8592e-05],\n",
      "        [ 7.3684e-10,  1.3152e-09,  1.8869e-06,  2.4138e-09,  8.7556e-01,\n",
      "          1.1986e-01,  6.3126e-05,  4.5070e-03,  3.9801e-06,  1.3573e-06],\n",
      "        [ 4.0325e-09,  4.6609e-11,  2.4734e-04,  2.2678e-08,  3.8550e-03,\n",
      "          9.9588e-01,  4.0752e-07,  1.9658e-05,  1.3883e-10,  5.1624e-11],\n",
      "        [ 4.8937e-10,  1.4659e-03,  1.1010e-02,  1.7325e-08,  8.8710e-01,\n",
      "          1.4109e-05,  1.8844e-06,  8.6757e-02,  2.1568e-08,  1.3651e-02],\n",
      "        [ 8.0542e-13,  1.1035e-06,  1.6097e-10,  4.4666e-12,  3.5846e-07,\n",
      "          9.9819e-01,  2.6501e-04,  1.4005e-09,  1.3648e-12,  1.5430e-03],\n",
      "        [ 1.3688e-09,  2.1261e-08,  6.0394e-05,  3.5831e-10,  9.3623e-02,\n",
      "          9.0501e-01,  3.0627e-05,  1.8343e-04,  1.2563e-07,  1.0882e-03],\n",
      "        [ 2.5315e-07,  4.0671e-06,  1.5179e-05,  1.8395e-09,  2.0016e-02,\n",
      "          9.7947e-01,  1.1835e-06,  4.8858e-04,  3.4533e-10,  1.2806e-08],\n",
      "        [ 6.9044e-10,  1.4584e-07,  1.8983e-05,  1.5719e-11,  4.5612e-01,\n",
      "          5.4386e-01,  4.7176e-10,  2.6115e-06,  2.5024e-10,  1.9611e-07],\n",
      "        [ 1.7911e-12,  2.4628e-09,  2.4290e-04,  4.6488e-09,  9.9966e-01,\n",
      "          1.8477e-05,  5.7048e-06,  7.3211e-05,  5.2579e-10,  4.4282e-09],\n",
      "        [ 5.2271e-12,  6.4620e-09,  1.1655e-07,  5.2737e-11,  2.4553e-02,\n",
      "          9.7530e-01,  2.0379e-08,  1.2824e-04,  2.8083e-13,  1.7236e-05],\n",
      "        [ 6.1109e-13,  3.2994e-04,  2.0453e-01,  1.9857e-08,  7.8059e-01,\n",
      "          1.3862e-02,  2.1783e-09,  3.8757e-04,  8.8271e-08,  3.1032e-04],\n",
      "        [ 1.5641e-10,  6.9513e-10,  6.1470e-08,  1.8871e-11,  2.3004e-03,\n",
      "          2.9163e-04,  2.8179e-08,  9.9736e-01,  8.0317e-11,  4.4261e-05],\n",
      "        [ 4.5810e-11,  8.1884e-03,  7.3502e-08,  2.4187e-11,  5.0128e-02,\n",
      "          9.4052e-01,  1.7072e-04,  9.9195e-04,  3.9427e-09,  1.0376e-06],\n",
      "        [ 2.0123e-12,  3.0606e-09,  9.3188e-07,  1.3639e-11,  9.5542e-02,\n",
      "          8.8630e-01,  9.2704e-07,  1.8148e-02,  5.0260e-12,  6.0258e-06],\n",
      "        [ 1.8664e-12,  7.8728e-10,  5.1179e-05,  6.9937e-10,  6.1012e-04,\n",
      "          9.9848e-01,  1.3536e-08,  3.6862e-05,  3.8072e-11,  8.1891e-04],\n",
      "        [ 1.1019e-13,  2.4221e-10,  8.9150e-08,  5.8986e-10,  1.0774e-04,\n",
      "          9.9989e-01,  5.6608e-08,  2.9189e-11,  1.3284e-13,  8.8200e-08],\n",
      "        [ 1.2142e-08,  2.0338e-11,  1.7121e-06,  2.1871e-11,  1.2422e-05,\n",
      "          5.7406e-01,  4.2521e-01,  2.9173e-04,  5.8858e-09,  4.2142e-04],\n",
      "        [ 9.1244e-12,  3.3585e-15,  6.9596e-11,  6.1203e-08,  9.9999e-01,\n",
      "          7.2743e-06,  4.9828e-07,  7.4137e-10,  9.4623e-17,  8.7207e-12],\n",
      "        [ 2.4893e-14,  1.6762e-07,  2.7662e-07,  4.8567e-13,  5.0687e-03,\n",
      "          1.7883e-02,  1.0273e-03,  9.7602e-01,  1.0072e-11,  3.2229e-08],\n",
      "        [ 4.7012e-08,  5.0972e-12,  5.6350e-09,  5.1411e-07,  8.2686e-03,\n",
      "          6.1158e-03,  7.0890e-02,  9.1472e-01,  2.5785e-12,  1.6327e-06],\n",
      "        [ 5.0311e-11,  2.5896e-07,  2.6307e-03,  1.5300e-11,  4.9853e-05,\n",
      "          9.9285e-01,  3.0486e-06,  4.4633e-03,  5.6049e-08,  2.0138e-06],\n",
      "        [ 7.8622e-10,  5.8326e-08,  4.6168e-06,  3.2863e-08,  3.4534e-03,\n",
      "          9.9566e-01,  2.2357e-08,  2.3854e-06,  8.4856e-07,  8.8239e-04],\n",
      "        [ 1.3585e-10,  2.9031e-07,  4.6116e-07,  2.3039e-10,  6.8524e-06,\n",
      "          9.9882e-01,  9.7050e-06,  1.1604e-03,  1.4091e-13,  3.7082e-07],\n",
      "        [ 9.2517e-13,  1.2203e-05,  7.7386e-02,  1.7087e-05,  2.5870e-01,\n",
      "          7.5827e-02,  5.5701e-08,  1.8591e-01,  3.0687e-08,  4.0214e-01],\n",
      "        [ 1.1392e-11,  8.4687e-10,  4.9899e-07,  1.2434e-09,  9.2945e-01,\n",
      "          8.4480e-05,  1.9486e-10,  7.0465e-02,  8.6098e-14,  1.5436e-09],\n",
      "        [ 5.9083e-12,  7.6248e-07,  9.8891e-03,  1.0698e-09,  3.9226e-01,\n",
      "          6.9752e-02,  2.4547e-07,  2.6679e-01,  1.6969e-09,  2.6131e-01],\n",
      "        [ 1.1592e-14,  3.6795e-10,  6.0936e-08,  2.0451e-08,  9.8882e-01,\n",
      "          1.0966e-02,  6.5398e-08,  2.1050e-04,  1.3953e-14,  4.2092e-11],\n",
      "        [ 5.5967e-08,  4.5070e-10,  3.1221e-08,  7.3861e-11,  5.3867e-01,\n",
      "          9.9787e-02,  1.0399e-07,  3.6154e-01,  1.3321e-12,  5.9203e-08],\n",
      "        [ 6.1489e-12,  1.7460e-11,  4.9354e-10,  4.5615e-08,  8.8380e-01,\n",
      "          1.1615e-01,  1.2177e-09,  5.3054e-05,  5.6028e-11,  2.1895e-10],\n",
      "        [ 2.8666e-10,  3.8754e-08,  5.3776e-02,  2.0399e-09,  6.8671e-01,\n",
      "          1.1369e-03,  1.5091e-03,  2.5687e-01,  3.5706e-10,  2.9107e-07],\n",
      "        [ 7.2480e-08,  5.3603e-08,  7.6963e-08,  2.9821e-09,  2.4735e-02,\n",
      "          9.7445e-01,  1.0359e-09,  4.6956e-08,  4.4558e-11,  8.1529e-04],\n",
      "        [ 7.2575e-12,  1.9188e-11,  2.4055e-08,  4.7975e-10,  9.8678e-01,\n",
      "          8.2469e-05,  2.2033e-07,  1.3133e-02,  1.7740e-10,  1.7241e-08],\n",
      "        [ 1.7773e-12,  1.3756e-06,  1.4060e-01,  7.0816e-04,  1.2970e-01,\n",
      "          5.8742e-06,  3.3832e-03,  4.5212e-01,  1.2941e-10,  2.7348e-01]])\n"
     ]
    }
   ],
   "source": [
    "def softmax(x):\n",
    "    return torch.exp(x)/torch.sum(torch.exp(x),dim=1).view(-1,1)\n",
    "\n",
    "# Here, out should be the output of the network in the previous excercise with shape (64,10)\n",
    "probabilities = softmax(out)\n",
    "\n",
    "# Does it have the right shape? Should be (64, 10)\n",
    "print(probabilities.shape)\n",
    "# Does it sum to 1?\n",
    "print(probabilities.sum(dim=1))\n",
    "print(probabilities)"
   ]
  },
  {
   "cell_type": "markdown",
   "metadata": {},
   "source": [
    "## Building networks with PyTorch\n",
    "\n",
    "PyTorch provides a module `nn` that makes building networks much simpler. Here I'll show you how to build the same one as above with 784 inputs, 256 hidden units, 10 output units and a softmax output."
   ]
  },
  {
   "cell_type": "code",
   "execution_count": 23,
   "metadata": {},
   "outputs": [],
   "source": [
    "from torch import nn"
   ]
  },
  {
   "cell_type": "code",
   "execution_count": 24,
   "metadata": {},
   "outputs": [],
   "source": [
    "class Network(nn.Module):\n",
    "    def __init__(self):\n",
    "        super().__init__()\n",
    "        \n",
    "        # Inputs to hidden layer linear transformation\n",
    "        self.hidden = nn.Linear(784, 256)\n",
    "        # Output layer, 10 units - one for each digit\n",
    "        self.output = nn.Linear(256, 10)\n",
    "        \n",
    "        # Define sigmoid activation and softmax output \n",
    "        self.sigmoid = nn.Sigmoid()\n",
    "        self.softmax = nn.Softmax(dim=1)\n",
    "        \n",
    "    def forward(self, x):\n",
    "        # Pass the input tensor through each of our operations\n",
    "        x = self.hidden(x)\n",
    "        x = self.sigmoid(x)\n",
    "        x = self.output(x)\n",
    "        x = self.softmax(x)\n",
    "        \n",
    "        return x"
   ]
  },
  {
   "cell_type": "markdown",
   "metadata": {},
   "source": [
    "Let's go through this bit by bit.\n",
    "\n",
    "```python\n",
    "class Network(nn.Module):\n",
    "```\n",
    "\n",
    "Here we're inheriting from `nn.Module`. Combined with `super().__init__()` this creates a class that tracks the architecture and provides a lot of useful methods and attributes. It is mandatory to inherit from `nn.Module` when you're creating a class for your network. The name of the class itself can be anything.\n",
    "\n",
    "```python\n",
    "self.hidden = nn.Linear(784, 256)\n",
    "```\n",
    "\n",
    "This line creates a module for a linear transformation, $x\\mathbf{W} + b$, with 784 inputs and 256 outputs and assigns it to `self.hidden`. The module automatically creates the weight and bias tensors which we'll use in the `forward` method. You can access the weight and bias tensors once the network (`net`) is created with `net.hidden.weight` and `net.hidden.bias`.\n",
    "\n",
    "```python\n",
    "self.output = nn.Linear(256, 10)\n",
    "```\n",
    "\n",
    "Similarly, this creates another linear transformation with 256 inputs and 10 outputs.\n",
    "\n",
    "```python\n",
    "self.sigmoid = nn.Sigmoid()\n",
    "self.softmax = nn.Softmax(dim=1)\n",
    "```\n",
    "\n",
    "Here I defined operations for the sigmoid activation and softmax output. Setting `dim=1` in `nn.Softmax(dim=1)` calculates softmax across the columns.\n",
    "\n",
    "```python\n",
    "def forward(self, x):\n",
    "```\n",
    "\n",
    "PyTorch networks created with `nn.Module` must have a `forward` method defined. It takes in a tensor `x` and passes it through the operations you defined in the `__init__` method.\n",
    "\n",
    "```python\n",
    "x = self.hidden(x)\n",
    "x = self.sigmoid(x)\n",
    "x = self.output(x)\n",
    "x = self.softmax(x)\n",
    "```\n",
    "\n",
    "Here the input tensor `x` is passed through each operation a reassigned to `x`. We can see that the input tensor goes through the hidden layer, then a sigmoid function, then the output layer, and finally the softmax function. It doesn't matter what you name the variables here, as long as the inputs and outputs of the operations match the network architecture you want to build. The order in which you define things in the `__init__` method doesn't matter, but you'll need to sequence the operations correctly in the `forward` method.\n",
    "\n",
    "Now we can create a `Network` object."
   ]
  },
  {
   "cell_type": "code",
   "execution_count": 25,
   "metadata": {},
   "outputs": [
    {
     "data": {
      "text/plain": [
       "Network(\n",
       "  (hidden): Linear(in_features=784, out_features=256, bias=True)\n",
       "  (output): Linear(in_features=256, out_features=10, bias=True)\n",
       "  (sigmoid): Sigmoid()\n",
       "  (softmax): Softmax()\n",
       ")"
      ]
     },
     "execution_count": 25,
     "metadata": {},
     "output_type": "execute_result"
    }
   ],
   "source": [
    "# Create the network and look at it's text representation\n",
    "model = Network()\n",
    "model"
   ]
  },
  {
   "cell_type": "markdown",
   "metadata": {},
   "source": [
    "You can define the network somewhat more concisely and clearly using the `torch.nn.functional` module. This is the most common way you'll see networks defined as many operations are simple element-wise functions. We normally import this module as `F`, `import torch.nn.functional as F`."
   ]
  },
  {
   "cell_type": "code",
   "execution_count": 26,
   "metadata": {},
   "outputs": [],
   "source": [
    "import torch.nn.functional as F\n",
    "\n",
    "class Network(nn.Module):\n",
    "    def __init__(self):\n",
    "        super().__init__()\n",
    "        # Inputs to hidden layer linear transformation\n",
    "        self.hidden = nn.Linear(784, 256)\n",
    "        # Output layer, 10 units - one for each digit\n",
    "        self.output = nn.Linear(256, 10)\n",
    "        \n",
    "    def forward(self, x):\n",
    "        # Hidden layer with sigmoid activation\n",
    "        x = F.sigmoid(self.hidden(x))\n",
    "        # Output layer with softmax activation\n",
    "        x = F.softmax(self.output(x), dim=1)\n",
    "        \n",
    "        return x"
   ]
  },
  {
   "cell_type": "markdown",
   "metadata": {},
   "source": [
    "### Activation functions\n",
    "\n",
    "So far we've only been looking at the softmax activation, but in general any function can be used as an activation function. The only requirement is that for a network to approximate a non-linear function, the activation functions must be non-linear. Here are a few more examples of common activation functions: Tanh (hyperbolic tangent), and ReLU (rectified linear unit).\n",
    "\n",
    "<img src=\"assets/activation.png\" width=700px>\n",
    "\n",
    "In practice, the ReLU function is used almost exclusively as the activation function for hidden layers."
   ]
  },
  {
   "cell_type": "markdown",
   "metadata": {},
   "source": [
    "### Your Turn to Build a Network\n",
    "\n",
    "<img src=\"assets/mlp_mnist.png\" width=600px>\n",
    "\n",
    "> **Exercise:** Create a network with 784 input units, a hidden layer with 128 units and a ReLU activation, then a hidden layer with 64 units and a ReLU activation, and finally an output layer with a softmax activation as shown above. You can use a ReLU activation with the `nn.ReLU` module or `F.relu` function."
   ]
  },
  {
   "cell_type": "code",
   "execution_count": 32,
   "metadata": {
    "scrolled": true
   },
   "outputs": [
    {
     "data": {
      "text/plain": [
       "Network2(\n",
       "  (fc1): Linear(in_features=784, out_features=128, bias=True)\n",
       "  (fc2): Linear(in_features=128, out_features=64, bias=True)\n",
       "  (output): Linear(in_features=64, out_features=10, bias=True)\n",
       ")"
      ]
     },
     "execution_count": 32,
     "metadata": {},
     "output_type": "execute_result"
    }
   ],
   "source": [
    "import torch.nn.functional as F\n",
    "\n",
    "class Network2(nn.Module):\n",
    "    def __init__(self):\n",
    "        super().__init__()\n",
    "        # Inputs to hidden layer linear transformation\n",
    "        self.fc1 = nn.Linear(784, 128)\n",
    "        self.fc2 = nn.Linear(128,64)\n",
    "        # Output layer, 10 units - one for each digit\n",
    "        self.output = nn.Linear(64, 10)\n",
    "        \n",
    "    def forward(self, x):\n",
    "        # Hidden layer with sigmoid activation\n",
    "        x = F.relu(self.fc1(x))\n",
    "        x = F.relu(self.fc2(x))\n",
    "        # Output layer with softmax activation\n",
    "        x = F.softmax(self.output(x), dim=1)\n",
    "        \n",
    "        return x\n",
    "    \n",
    "# Create the network and look at it's text representation\n",
    "model = Network2()\n",
    "model"
   ]
  },
  {
   "cell_type": "markdown",
   "metadata": {},
   "source": [
    "### Initializing weights and biases\n",
    "\n",
    "The weights and such are automatically initialized for you, but it's possible to customize how they are initialized. The weights and biases are tensors attached to the layer you defined, you can get them with `model.fc1.weight` for instance."
   ]
  },
  {
   "cell_type": "code",
   "execution_count": 33,
   "metadata": {},
   "outputs": [
    {
     "name": "stdout",
     "output_type": "stream",
     "text": [
      "Parameter containing:\n",
      "tensor(1.00000e-02 *\n",
      "       [[ 0.7423,  1.2612,  1.3649,  ..., -3.0545,  0.3137, -1.6912],\n",
      "        [-0.5561, -3.1342,  2.5013,  ..., -2.7626, -0.3457, -0.1126],\n",
      "        [-0.5915, -2.8370, -0.9211,  ...,  1.4586,  0.9180, -3.4712],\n",
      "        ...,\n",
      "        [-2.2670,  3.1320, -2.6547,  ..., -2.8014,  2.6764, -0.7444],\n",
      "        [-2.0310,  0.4836,  2.1801,  ..., -2.8261,  2.3582, -2.0928],\n",
      "        [-0.3743,  1.3756, -2.7354,  ...,  2.6787, -3.3771, -2.6043]])\n",
      "Parameter containing:\n",
      "tensor(1.00000e-02 *\n",
      "       [-2.8512, -1.1059, -3.2102, -2.4496,  2.1074, -2.4646,  0.0136,\n",
      "        -3.4056, -2.5767, -1.9709, -1.5721,  0.3120, -3.4082, -3.3588,\n",
      "        -1.3863,  0.0389,  2.3295,  2.2416, -2.0000,  3.2312,  0.9649,\n",
      "        -0.5396, -0.0291, -2.9708,  3.1073,  0.0995,  0.8816, -1.5771,\n",
      "         2.0544,  1.5763,  3.1504,  0.8461, -2.4260, -1.3151, -2.3938,\n",
      "         0.5793,  0.2616,  0.7961,  2.6041, -1.9122, -3.5581,  0.3369,\n",
      "        -3.3528,  2.3323,  2.7915, -0.6992, -0.7437,  3.2201,  2.6225,\n",
      "        -0.8997, -3.1406, -2.0548, -1.5499, -2.9445,  3.5676, -3.5041,\n",
      "        -2.9113,  1.6561,  0.1262,  1.3204, -3.1744,  3.0502, -1.8012,\n",
      "        -3.2362,  2.6430,  3.0598, -0.0544,  1.7787,  2.4163, -1.8306,\n",
      "        -0.2015,  1.7627, -1.9436, -2.6511, -2.4409,  3.0633,  3.3832,\n",
      "        -2.7559,  2.8147, -2.7242, -1.1132,  1.2712,  2.6984, -0.8568,\n",
      "         1.9884,  3.0832, -1.4363, -0.0290,  0.4050, -0.4957, -2.1269,\n",
      "        -1.0228,  2.7107, -1.6192, -1.5863, -0.2236, -2.6057,  2.2768,\n",
      "         0.8457, -1.0911,  1.9796,  3.5346,  0.7974,  2.3849,  1.1447,\n",
      "        -2.3430, -0.7505,  0.1935,  1.9162,  3.3347, -1.6550,  2.2576,\n",
      "         3.4014,  1.5067, -3.5412,  3.1272, -1.0178, -2.7274, -2.9739,\n",
      "        -1.3590, -1.3068, -0.8119, -1.0230, -2.2331,  3.4821,  0.0506,\n",
      "        -0.1799, -3.2150])\n"
     ]
    }
   ],
   "source": [
    "print(model.fc1.weight)\n",
    "print(model.fc1.bias)"
   ]
  },
  {
   "cell_type": "markdown",
   "metadata": {},
   "source": [
    "For custom initialization, we want to modify these tensors in place. These are actually autograd *Variables*, so we need to get back the actual tensors with `model.fc1.weight.data`. Once we have the tensors, we can fill them with zeros (for biases) or random normal values."
   ]
  },
  {
   "cell_type": "code",
   "execution_count": 34,
   "metadata": {},
   "outputs": [
    {
     "data": {
      "text/plain": [
       "tensor([ 0.,  0.,  0.,  0.,  0.,  0.,  0.,  0.,  0.,  0.,  0.,  0.,\n",
       "         0.,  0.,  0.,  0.,  0.,  0.,  0.,  0.,  0.,  0.,  0.,  0.,\n",
       "         0.,  0.,  0.,  0.,  0.,  0.,  0.,  0.,  0.,  0.,  0.,  0.,\n",
       "         0.,  0.,  0.,  0.,  0.,  0.,  0.,  0.,  0.,  0.,  0.,  0.,\n",
       "         0.,  0.,  0.,  0.,  0.,  0.,  0.,  0.,  0.,  0.,  0.,  0.,\n",
       "         0.,  0.,  0.,  0.,  0.,  0.,  0.,  0.,  0.,  0.,  0.,  0.,\n",
       "         0.,  0.,  0.,  0.,  0.,  0.,  0.,  0.,  0.,  0.,  0.,  0.,\n",
       "         0.,  0.,  0.,  0.,  0.,  0.,  0.,  0.,  0.,  0.,  0.,  0.,\n",
       "         0.,  0.,  0.,  0.,  0.,  0.,  0.,  0.,  0.,  0.,  0.,  0.,\n",
       "         0.,  0.,  0.,  0.,  0.,  0.,  0.,  0.,  0.,  0.,  0.,  0.,\n",
       "         0.,  0.,  0.,  0.,  0.,  0.,  0.,  0.])"
      ]
     },
     "execution_count": 34,
     "metadata": {},
     "output_type": "execute_result"
    }
   ],
   "source": [
    "# Set biases to all zeros\n",
    "model.fc1.bias.data.fill_(0)"
   ]
  },
  {
   "cell_type": "code",
   "execution_count": 35,
   "metadata": {},
   "outputs": [
    {
     "data": {
      "text/plain": [
       "tensor([[-1.3487e-02, -3.1954e-03, -1.5054e-03,  ...,  1.0136e-02,\n",
       "          3.9427e-03, -1.8583e-03],\n",
       "        [ 7.8920e-03, -2.8835e-03,  3.4109e-03,  ..., -1.2927e-03,\n",
       "          3.3360e-03,  2.7437e-02],\n",
       "        [-2.2167e-03,  1.8654e-02,  4.4567e-03,  ...,  6.5261e-03,\n",
       "          5.0763e-03,  1.0804e-02],\n",
       "        ...,\n",
       "        [-9.6816e-03, -1.8621e-02, -1.1951e-02,  ...,  3.9973e-03,\n",
       "          1.7014e-03,  1.2590e-02],\n",
       "        [-4.2332e-03, -2.0973e-02,  3.7508e-03,  ..., -9.7941e-03,\n",
       "         -4.0598e-03,  1.3353e-02],\n",
       "        [-3.8021e-03,  3.1903e-04, -2.8321e-03,  ...,  6.3708e-04,\n",
       "          4.4195e-03,  6.2442e-03]])"
      ]
     },
     "execution_count": 35,
     "metadata": {},
     "output_type": "execute_result"
    }
   ],
   "source": [
    "# sample from random normal with standard dev = 0.01\n",
    "model.fc1.weight.data.normal_(std=0.01)"
   ]
  },
  {
   "cell_type": "markdown",
   "metadata": {},
   "source": [
    "### Forward pass\n",
    "\n",
    "Now that we have a network, let's see what happens when we pass in an image."
   ]
  },
  {
   "cell_type": "code",
   "execution_count": null,
   "metadata": {
    "collapsed": true
   },
   "outputs": [],
   "source": [
    "# Grab some data \n",
    "dataiter = iter(trainloader)\n",
    "images, labels = dataiter.next()\n",
    "\n",
    "# Resize images into a 1D vector, new shape is (batch size, color channels, image pixels) \n",
    "images.resize_(64, 1, 784)\n",
    "# or images.resize_(images.shape[0], 1, 784) to automatically get batch size\n",
    "\n",
    "# Forward pass through the network\n",
    "img_idx = 0\n",
    "ps = model.forward(images[img_idx,:])\n",
    "\n",
    "img = images[img_idx]\n",
    "helper.view_classify(img.view(1, 28, 28), ps)"
   ]
  },
  {
   "cell_type": "markdown",
   "metadata": {},
   "source": [
    "As you can see above, our network has basically no idea what this digit is. It's because we haven't trained it yet, all the weights are random!\n",
    "\n",
    "### Using `nn.Sequential`\n",
    "\n",
    "PyTorch provides a convenient way to build networks like this where a tensor is passed sequentially through operations, `nn.Sequential` ([documentation](https://pytorch.org/docs/master/nn.html#torch.nn.Sequential)). Using this to build the equivalent network:"
   ]
  },
  {
   "cell_type": "code",
   "execution_count": 36,
   "metadata": {},
   "outputs": [
    {
     "name": "stdout",
     "output_type": "stream",
     "text": [
      "Sequential(\n",
      "  (0): Linear(in_features=784, out_features=128, bias=True)\n",
      "  (1): ReLU()\n",
      "  (2): Linear(in_features=128, out_features=64, bias=True)\n",
      "  (3): ReLU()\n",
      "  (4): Linear(in_features=64, out_features=10, bias=True)\n",
      "  (5): Softmax()\n",
      ")\n"
     ]
    },
    {
     "data": {
      "image/png": "[encoded data removed]",
      "text/plain": [
       "<matplotlib.figure.Figure at 0x7f2d08072208>"
      ]
     },
     "metadata": {
      "image/png": {
       "height": 224,
       "width": 423
      },
      "needs_background": "light"
     },
     "output_type": "display_data"
    }
   ],
   "source": [
    "# Hyperparameters for our network\n",
    "input_size = 784\n",
    "hidden_sizes = [128, 64]\n",
    "output_size = 10\n",
    "\n",
    "# Build a feed-forward network\n",
    "model = nn.Sequential(nn.Linear(input_size, hidden_sizes[0]),\n",
    "                      nn.ReLU(),\n",
    "                      nn.Linear(hidden_sizes[0], hidden_sizes[1]),\n",
    "                      nn.ReLU(),\n",
    "                      nn.Linear(hidden_sizes[1], output_size),\n",
    "                      nn.Softmax(dim=1))\n",
    "print(model)\n",
    "\n",
    "# Forward pass through the network and display output\n",
    "images, labels = next(iter(trainloader))\n",
    "images.resize_(images.shape[0], 1, 784)\n",
    "ps = model.forward(images[0,:])\n",
    "helper.view_classify(images[0].view(1, 28, 28), ps)"
   ]
  },
  {
   "cell_type": "markdown",
   "metadata": {},
   "source": [
    "Here our model is the same as before: 784 input units, a hidden layer with 128 units, ReLU activation, 64 unit hidden layer, another ReLU, then the output layer with 10 units, and the softmax output.\n",
    "\n",
    "The operations are availble by passing in the appropriate index. For example, if you want to get first Linear operation and look at the weights, you'd use `model[0]`."
   ]
  },
  {
   "cell_type": "code",
   "execution_count": 37,
   "metadata": {},
   "outputs": [
    {
     "name": "stdout",
     "output_type": "stream",
     "text": [
      "Linear(in_features=784, out_features=128, bias=True)\n"
     ]
    },
    {
     "data": {
      "text/plain": [
       "Parameter containing:\n",
       "tensor([[-2.2625e-02, -2.1760e-02, -2.3485e-02,  ...,  1.7796e-02,\n",
       "          2.0798e-02, -1.4589e-02],\n",
       "        [-1.1354e-02, -2.9862e-02, -2.6864e-02,  ..., -2.8039e-02,\n",
       "         -7.3037e-03,  2.5243e-02],\n",
       "        [-5.5456e-03, -3.0896e-03,  1.4224e-02,  ...,  1.9721e-02,\n",
       "          1.1273e-02,  4.6567e-03],\n",
       "        ...,\n",
       "        [ 3.7747e-04, -3.5452e-02, -6.8596e-03,  ...,  5.3435e-03,\n",
       "         -1.6261e-02,  4.7459e-03],\n",
       "        [-6.2548e-03, -1.5085e-02, -1.5997e-02,  ...,  2.7127e-02,\n",
       "         -3.3952e-02, -2.9070e-02],\n",
       "        [ 2.4827e-02,  1.5463e-02, -7.6542e-04,  ..., -1.1802e-02,\n",
       "         -6.4890e-03, -2.3299e-02]])"
      ]
     },
     "execution_count": 37,
     "metadata": {},
     "output_type": "execute_result"
    }
   ],
   "source": [
    "print(model[0])\n",
    "model[0].weight"
   ]
  },
  {
   "cell_type": "markdown",
   "metadata": {},
   "source": [
    "You can also pass in an `OrderedDict` to name the individual layers and operations, instead of using incremental integers. Note that dictionary keys must be unique, so _each operation must have a different name_."
   ]
  },
  {
   "cell_type": "code",
   "execution_count": null,
   "metadata": {
    "collapsed": true
   },
   "outputs": [],
   "source": [
    "from collections import OrderedDict\n",
    "model = nn.Sequential(OrderedDict([\n",
    "                      ('fc1', nn.Linear(input_size, hidden_sizes[0])),\n",
    "                      ('relu1', nn.ReLU()),\n",
    "                      ('fc2', nn.Linear(hidden_sizes[0], hidden_sizes[1])),\n",
    "                      ('relu2', nn.ReLU()),\n",
    "                      ('output', nn.Linear(hidden_sizes[1], output_size)),\n",
    "                      ('softmax', nn.Softmax(dim=1))]))\n",
    "model"
   ]
  },
  {
   "cell_type": "markdown",
   "metadata": {},
   "source": [
    "Now you can access layers either by integer or the name"
   ]
  },
  {
   "cell_type": "code",
   "execution_count": null,
   "metadata": {
    "collapsed": true
   },
   "outputs": [],
   "source": [
    "print(model[0])\n",
    "print(model.fc1)"
   ]
  },
  {
   "cell_type": "markdown",
   "metadata": {},
   "source": [
    "In the next notebook, we'll see how we can train a neural network to accuractly predict the numbers appearing in the MNIST images."
   ]
  }
 ],
 "metadata": {
  "kernelspec": {
   "display_name": "Python 3",
   "language": "python",
   "name": "python3"
  },
  "language_info": {
   "codemirror_mode": {
    "name": "ipython",
    "version": 3
   },
   "file_extension": ".py",
   "mimetype": "text/x-python",
   "name": "python",
   "nbconvert_exporter": "python",
   "pygments_lexer": "ipython3",
   "version": "3.6.3"
  }
 },
 "nbformat": 4,
 "nbformat_minor": 2
}
